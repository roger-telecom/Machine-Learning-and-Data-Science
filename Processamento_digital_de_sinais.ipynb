{
  "nbformat": 4,
  "nbformat_minor": 0,
  "metadata": {
    "colab": {
      "name": "Processamento digital de sinais.ipynb",
      "provenance": [],
      "authorship_tag": "ABX9TyPYjjkMkkO55ccExiwvNzWe",
      "include_colab_link": true
    },
    "kernelspec": {
      "name": "python3",
      "display_name": "Python 3"
    },
    "language_info": {
      "name": "python"
    }
  },
  "cells": [
    {
      "cell_type": "markdown",
      "metadata": {
        "id": "view-in-github",
        "colab_type": "text"
      },
      "source": [
        "<a href=\"https://colab.research.google.com/github/roger-telecom/Machine-Learning-and-Data-Science/blob/main/Processamento_digital_de_sinais.ipynb\" target=\"_parent\"><img src=\"https://colab.research.google.com/assets/colab-badge.svg\" alt=\"Open In Colab\"/></a>"
      ]
    },
    {
      "cell_type": "code",
      "execution_count": null,
      "metadata": {
        "id": "C6LkrT856_ML"
      },
      "outputs": [],
      "source": [
        "#Banc de filtres et transformée en ondelettes\n",
        "\n",
        "import numpy as np\n",
        "import numpy.random as rd \n",
        "import matplotlib.pyplot as plt \n",
        "import IPython.display\n",
        "import scipy.signal as si\n",
        "import scipy.fft as fft\n",
        "import pywt\n",
        "from PIL import Image"
      ]
    },
    {
      "cell_type": "code",
      "source": [
        "plt.rcParams['figure.figsize']=(10,6)\n",
        "x = pywt.data.demo_signal(name='Piece-Regular', n=256)"
      ],
      "metadata": {
        "id": "N3XFxF_Y7EsK"
      },
      "execution_count": null,
      "outputs": []
    },
    {
      "cell_type": "code",
      "source": [
        "def plot4 (x1, x2, xlims, l1, l2):\n",
        "  Nfft = 10000\n",
        "  nu_fft = np.arrange(Nfft)/Nfft - 1/2\n",
        "\n",
        "  plt.figure()\n",
        "  plt.subplot(221)\n",
        "  plt.figure.show()"
      ],
      "metadata": {
        "id": "fovXDb9i7HwO"
      },
      "execution_count": null,
      "outputs": []
    }
  ]
}