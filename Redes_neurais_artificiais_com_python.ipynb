{
  "nbformat": 4,
  "nbformat_minor": 0,
  "metadata": {
    "colab": {
      "name": "Redes neurais artificiais com python.ipynb",
      "provenance": [],
      "authorship_tag": "ABX9TyOzvCay/2QdieT6KxtcjMdf",
      "include_colab_link": true
    },
    "kernelspec": {
      "name": "python3",
      "display_name": "Python 3"
    },
    "language_info": {
      "name": "python"
    }
  },
  "cells": [
    {
      "cell_type": "markdown",
      "metadata": {
        "id": "view-in-github",
        "colab_type": "text"
      },
      "source": [
        "<a href=\"https://colab.research.google.com/github/roger-telecom/Machine-Learning-and-Data-Science/blob/main/Redes_neurais_artificiais_com_python.ipynb\" target=\"_parent\"><img src=\"https://colab.research.google.com/assets/colab-badge.svg\" alt=\"Open In Colab\"/></a>"
      ]
    },
    {
      "cell_type": "code",
      "execution_count": 1,
      "metadata": {
        "colab": {
          "base_uri": "https://localhost:8080/"
        },
        "id": "Sp-8lL746Lz4",
        "outputId": "d48b820d-3c68-4665-84f9-9cd24b8879bf"
      },
      "outputs": [
        {
          "output_type": "stream",
          "name": "stdout",
          "text": [
            "Peso atualizado = 0.0\n",
            "Peso atualizado = 0.0\n",
            "Peso atualizado = 0.0\n",
            "Peso atualizado = 0.0\n",
            "Peso atualizado = 0.0\n",
            "Peso atualizado = 0.0\n",
            "Peso atualizado = 0.1\n",
            "Peso atualizado = 0.1\n",
            "Erro total = 1\n",
            "Peso atualizado = 0.1\n",
            "Peso atualizado = 0.1\n",
            "Peso atualizado = 0.1\n",
            "Peso atualizado = 0.1\n",
            "Peso atualizado = 0.1\n",
            "Peso atualizado = 0.1\n",
            "Peso atualizado = 0.2\n",
            "Peso atualizado = 0.2\n",
            "Erro total = 1\n",
            "Peso atualizado = 0.2\n",
            "Peso atualizado = 0.2\n",
            "Peso atualizado = 0.2\n",
            "Peso atualizado = 0.2\n",
            "Peso atualizado = 0.2\n",
            "Peso atualizado = 0.2\n",
            "Peso atualizado = 0.30000000000000004\n",
            "Peso atualizado = 0.30000000000000004\n",
            "Erro total = 1\n",
            "Peso atualizado = 0.30000000000000004\n",
            "Peso atualizado = 0.30000000000000004\n",
            "Peso atualizado = 0.30000000000000004\n",
            "Peso atualizado = 0.30000000000000004\n",
            "Peso atualizado = 0.30000000000000004\n",
            "Peso atualizado = 0.30000000000000004\n",
            "Peso atualizado = 0.4\n",
            "Peso atualizado = 0.4\n",
            "Erro total = 1\n",
            "Peso atualizado = 0.4\n",
            "Peso atualizado = 0.4\n",
            "Peso atualizado = 0.4\n",
            "Peso atualizado = 0.4\n",
            "Peso atualizado = 0.4\n",
            "Peso atualizado = 0.4\n",
            "Peso atualizado = 0.5\n",
            "Peso atualizado = 0.5\n",
            "Erro total = 1\n",
            "Peso atualizado = 0.5\n",
            "Peso atualizado = 0.5\n",
            "Peso atualizado = 0.5\n",
            "Peso atualizado = 0.5\n",
            "Peso atualizado = 0.5\n",
            "Peso atualizado = 0.5\n",
            "Peso atualizado = 0.5\n",
            "Peso atualizado = 0.5\n",
            "Erro total = 0\n"
          ]
        }
      ],
      "source": [
        "#REDES NEURAIS ARTIFICIAIS (AJUSTES DE PESO)\n",
        "\n",
        "import numpy as np\n",
        "\n",
        "x = np.array([[0,0],[0,1],[1,0],[1,1]]);\n",
        "w = np.array([0.0, 0.0]);\n",
        "y = np.array([0,0,0,1]);\n",
        "c = 0.1;\n",
        "\n",
        "def stepFuncao(soma):\n",
        "  if (soma>=1):\n",
        "    return 1;\n",
        "  return 0;\n",
        "\n",
        "def saidaFuncao(registro):\n",
        "  s = registro.dot(w);\n",
        "  return stepFuncao(s);\n",
        "\n",
        "def treinar():\n",
        "\n",
        "  erroTotal = 1;\n",
        "\n",
        "  while(erroTotal != 0):\n",
        "\n",
        "    erroTotal = 0\n",
        "\n",
        "    for i in range(len(y)):\n",
        "\n",
        "      saidaCalculada = saidaFuncao(np.asarray(x[i]));\n",
        "\n",
        "      erro = abs(y[i] - saidaFuncao(x[i]));\n",
        "\n",
        "      erroTotal += erro;\n",
        "\n",
        "      for j in range(len(w)):\n",
        "\n",
        "        w[j] = w[j] + (c*x[i][j]*erro);\n",
        "       \n",
        "        print(\"Peso atualizado = \" + str(w[j]));\n",
        "\n",
        "    print(\"Erro total = \" + str(erroTotal));\n",
        "\n",
        "treinar()"
      ]
    }
  ]
}